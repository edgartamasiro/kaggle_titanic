{
 "cells": [
  {
   "cell_type": "markdown",
   "metadata": {},
   "source": [
    "### NOTES\n",
    "\n",
    "##### - Desafio Titanic Kaggle (rev2.0)\n",
    "##### - Resolução do canal DevVerso [BR]"
   ]
  },
  {
   "cell_type": "markdown",
   "metadata": {},
   "source": [
    "---"
   ]
  },
  {
   "cell_type": "markdown",
   "metadata": {},
   "source": [
    "### INITIAL IMPORTS "
   ]
  },
  {
   "cell_type": "code",
   "execution_count": 1,
   "metadata": {},
   "outputs": [],
   "source": [
    "import numpy as np\n",
    "import pandas as pd\n",
    "import seaborn as sns\n",
    "from sklearn import metrics, model_selection\n",
    "\n",
    "sns.set_style('whitegrid')\n"
   ]
  },
  {
   "cell_type": "markdown",
   "metadata": {},
   "source": [
    "-----"
   ]
  },
  {
   "cell_type": "markdown",
   "metadata": {},
   "source": [
    "### FUNCTIONS"
   ]
  },
  {
   "cell_type": "code",
   "execution_count": 2,
   "metadata": {},
   "outputs": [],
   "source": [
    "def sex_in_binary(value):\n",
    "    if value == 'female':\n",
    "        return 1\n",
    "    else:\n",
    "        return 0\n"
   ]
  },
  {
   "cell_type": "code",
   "execution_count": 3,
   "metadata": {},
   "outputs": [],
   "source": [
    "def titanic_func(data, column, count=True):\n",
    "    #print(f'{data[column]}')\n",
    "    print(f'Quant. valores únicos: {data[column].nunique()}')\n",
    "    print(f'Quais os valores únicos: {data[column].unique()}')\n",
    "    print(f'Quant. valores nulos: {data[column].isnull().sum()}')\n",
    "    print(f'Quant. por opção:\\n{data[column].value_counts()}')\n",
    "    if count == True:\n",
    "        sns.countplot(data=data, x=column, hue='Survived')\n",
    "    else:\n",
    "        sns.displot(data[column], kde=True)\n"
   ]
  },
  {
   "cell_type": "code",
   "execution_count": 4,
   "metadata": {},
   "outputs": [],
   "source": [
    "def accuracy_func(algo, x_train, y_train, cross_val):\n",
    "    model = algo.fit(x_train, y_train)\n",
    "    accuracy = round(model.score(x_train, y_train) * 100, 2)\n",
    "    train_predict = model_selection.cross_val_predict(algo, x_train, y_train, cv = cross_val, n_jobs=-1)\n",
    "    cross_val_accuracy = round(metrics.accuracy_score(y_train, train_predict) * 100, 2)\n",
    "    return accuracy, cross_val_accuracy\n"
   ]
  },
  {
   "cell_type": "markdown",
   "metadata": {},
   "source": [
    "---"
   ]
  },
  {
   "cell_type": "markdown",
   "metadata": {},
   "source": [
    "#### CLEANING / EDA"
   ]
  },
  {
   "cell_type": "code",
   "execution_count": 5,
   "metadata": {},
   "outputs": [],
   "source": [
    "#.info()  #.head(3)  #.tail()  #.columns\n",
    "#[''].unique()  #.isnull().sum()  #[''].value_counts()\n",
    "# #.describe()\n",
    "\n",
    "#dataset treino\n",
    "df_train = pd.read_csv('./train.csv')\n",
    "#891 entradas\n",
    "#null: Age 177; Cabin 687; Embarked 2\n",
    "\n",
    "#dataset teste\n",
    "df_test = pd.read_csv('./test.csv')\n",
    "#418 entradas\n",
    "#null: Age 86; Cabin: 327\n"
   ]
  },
  {
   "cell_type": "code",
   "execution_count": 6,
   "metadata": {},
   "outputs": [],
   "source": [
    "#df_train fica somente p/ consulta\n",
    "#alterações e criação de novas series são add no df e df_titanic\n",
    " \n",
    "df = pd.DataFrame()\n",
    "\n",
    "df_titanic = pd.concat([df_train, df_test], ignore_index=True)\n",
    "#titanic_func(df_titanic, 'Fare', 0)\n",
    "#titanic_func(df_titanic, 'Title')\n"
   ]
  },
  {
   "cell_type": "code",
   "execution_count": 7,
   "metadata": {},
   "outputs": [],
   "source": [
    "df['survived'] = df_titanic['Survived']\n",
    "df['p_class'] = df_titanic['Pclass']\n",
    "df['sex'] = df_titanic['Sex'].map(sex_in_binary)\n"
   ]
  },
  {
   "cell_type": "code",
   "execution_count": 8,
   "metadata": {},
   "outputs": [
    {
     "name": "stderr",
     "output_type": "stream",
     "text": [
      "C:\\Users\\edgar\\AppData\\Local\\Temp\\ipykernel_15916\\1196738266.py:9: SettingWithCopyWarning: \n",
      "A value is trying to be set on a copy of a slice from a DataFrame\n",
      "\n",
      "See the caveats in the documentation: https://pandas.pydata.org/pandas-docs/stable/user_guide/indexing.html#returning-a-view-versus-a-copy\n",
      "  df_titanic['Age'][i] = round(df_titanic[df_titanic['Pclass'] == 3]['Age'].mean(), 0)\n",
      "C:\\Users\\edgar\\AppData\\Local\\Temp\\ipykernel_15916\\1196738266.py:7: SettingWithCopyWarning: \n",
      "A value is trying to be set on a copy of a slice from a DataFrame\n",
      "\n",
      "See the caveats in the documentation: https://pandas.pydata.org/pandas-docs/stable/user_guide/indexing.html#returning-a-view-versus-a-copy\n",
      "  df_titanic['Age'][i] = round(df_titanic[df_titanic['Pclass'] == 2]['Age'].mean(), 0)\n",
      "C:\\Users\\edgar\\AppData\\Local\\Temp\\ipykernel_15916\\1196738266.py:5: SettingWithCopyWarning: \n",
      "A value is trying to be set on a copy of a slice from a DataFrame\n",
      "\n",
      "See the caveats in the documentation: https://pandas.pydata.org/pandas-docs/stable/user_guide/indexing.html#returning-a-view-versus-a-copy\n",
      "  df_titanic['Age'][i] = round(df_titanic[df_titanic['Pclass'] == 1]['Age'].mean(), 0)\n"
     ]
    }
   ],
   "source": [
    "#NaN da coluna Age serão preenchidos com a média da classe\n",
    "for i in df_titanic.index:\n",
    "    if pd.isnull(df_titanic['Age'][i]):\n",
    "        if df_titanic['Pclass'][i] == 1:\n",
    "            df_titanic['Age'][i] = round(df_titanic[df_titanic['Pclass'] == 1]['Age'].mean(), 0)\n",
    "        elif df_titanic['Pclass'][i] == 2:\n",
    "            df_titanic['Age'][i] = round(df_titanic[df_titanic['Pclass'] == 2]['Age'].mean(), 0)\n",
    "        else:\n",
    "            df_titanic['Age'][i] = round(df_titanic[df_titanic['Pclass'] == 3]['Age'].mean(), 0)\n",
    "    else:\n",
    "        continue\n",
    "    \n",
    "df['age'] = df_titanic['Age']\n"
   ]
  },
  {
   "cell_type": "code",
   "execution_count": 9,
   "metadata": {},
   "outputs": [],
   "source": [
    "df['sib_sp'] = df_titanic['SibSp']\n",
    "df['par_ch'] = df_titanic['Parch']\n",
    "\n",
    "#tamanho da família: 1 + sib_sp + par_ch\n",
    "df['family_size'] = 1 + df['sib_sp'] + df['par_ch']\n"
   ]
  },
  {
   "cell_type": "code",
   "execution_count": 10,
   "metadata": {},
   "outputs": [],
   "source": [
    "#df_titanic[df_titanic['Fare'].isnull()]\n",
    "#df_titanic[df_titanic['Pclass'] == 3]['Fare'].mean() #13\n",
    "df_titanic['Fare'].fillna(df_titanic[df_titanic['Pclass'] == 3]['Fare'].mean(), inplace=True)\n",
    "df['fare'] = df_titanic['Fare']\n",
    "\n",
    "# Pclass = 3 -> valor mais frequente\n"
   ]
  },
  {
   "cell_type": "code",
   "execution_count": 11,
   "metadata": {},
   "outputs": [],
   "source": [
    "df_titanic['Embarked'].fillna('C', inplace=True)\n",
    "df['embarked'] = df_titanic['Embarked']\n"
   ]
  },
  {
   "cell_type": "code",
   "execution_count": 12,
   "metadata": {},
   "outputs": [],
   "source": [
    "#[df_titanic['Name'][n].split(',')[1].split('.')[0].strip() for n in df_titanic.index]\n",
    "df_titanic['Title'] = df_titanic['Name'].apply(lambda name: name.split(',')[1].split('.')[0].strip())\n",
    "df_titanic['Title'] = [n if n in ['Mr', 'Mrs', 'Miss', 'Master'] else 'Person' for n in df_titanic['Title']]\n",
    "df['title'] = df_titanic['Title']\n"
   ]
  },
  {
   "cell_type": "code",
   "execution_count": 13,
   "metadata": {},
   "outputs": [
    {
     "data": {
      "text/html": [
       "<div>\n",
       "<style scoped>\n",
       "    .dataframe tbody tr th:only-of-type {\n",
       "        vertical-align: middle;\n",
       "    }\n",
       "\n",
       "    .dataframe tbody tr th {\n",
       "        vertical-align: top;\n",
       "    }\n",
       "\n",
       "    .dataframe thead th {\n",
       "        text-align: right;\n",
       "    }\n",
       "</style>\n",
       "<table border=\"1\" class=\"dataframe\">\n",
       "  <thead>\n",
       "    <tr style=\"text-align: right;\">\n",
       "      <th></th>\n",
       "      <th>survived</th>\n",
       "      <th>p_class</th>\n",
       "      <th>sex</th>\n",
       "      <th>age</th>\n",
       "      <th>sib_sp</th>\n",
       "      <th>par_ch</th>\n",
       "      <th>family_size</th>\n",
       "      <th>fare</th>\n",
       "      <th>embarked</th>\n",
       "      <th>title</th>\n",
       "    </tr>\n",
       "  </thead>\n",
       "  <tbody>\n",
       "    <tr>\n",
       "      <th>0</th>\n",
       "      <td>0.0</td>\n",
       "      <td>3</td>\n",
       "      <td>0</td>\n",
       "      <td>22.0</td>\n",
       "      <td>1</td>\n",
       "      <td>0</td>\n",
       "      <td>2</td>\n",
       "      <td>7.2500</td>\n",
       "      <td>S</td>\n",
       "      <td>Mr</td>\n",
       "    </tr>\n",
       "    <tr>\n",
       "      <th>1</th>\n",
       "      <td>1.0</td>\n",
       "      <td>1</td>\n",
       "      <td>1</td>\n",
       "      <td>38.0</td>\n",
       "      <td>1</td>\n",
       "      <td>0</td>\n",
       "      <td>2</td>\n",
       "      <td>71.2833</td>\n",
       "      <td>C</td>\n",
       "      <td>Mrs</td>\n",
       "    </tr>\n",
       "    <tr>\n",
       "      <th>2</th>\n",
       "      <td>1.0</td>\n",
       "      <td>3</td>\n",
       "      <td>1</td>\n",
       "      <td>26.0</td>\n",
       "      <td>0</td>\n",
       "      <td>0</td>\n",
       "      <td>1</td>\n",
       "      <td>7.9250</td>\n",
       "      <td>S</td>\n",
       "      <td>Miss</td>\n",
       "    </tr>\n",
       "    <tr>\n",
       "      <th>3</th>\n",
       "      <td>1.0</td>\n",
       "      <td>1</td>\n",
       "      <td>1</td>\n",
       "      <td>35.0</td>\n",
       "      <td>1</td>\n",
       "      <td>0</td>\n",
       "      <td>2</td>\n",
       "      <td>53.1000</td>\n",
       "      <td>S</td>\n",
       "      <td>Mrs</td>\n",
       "    </tr>\n",
       "    <tr>\n",
       "      <th>4</th>\n",
       "      <td>0.0</td>\n",
       "      <td>3</td>\n",
       "      <td>0</td>\n",
       "      <td>35.0</td>\n",
       "      <td>0</td>\n",
       "      <td>0</td>\n",
       "      <td>1</td>\n",
       "      <td>8.0500</td>\n",
       "      <td>S</td>\n",
       "      <td>Mr</td>\n",
       "    </tr>\n",
       "    <tr>\n",
       "      <th>...</th>\n",
       "      <td>...</td>\n",
       "      <td>...</td>\n",
       "      <td>...</td>\n",
       "      <td>...</td>\n",
       "      <td>...</td>\n",
       "      <td>...</td>\n",
       "      <td>...</td>\n",
       "      <td>...</td>\n",
       "      <td>...</td>\n",
       "      <td>...</td>\n",
       "    </tr>\n",
       "    <tr>\n",
       "      <th>1304</th>\n",
       "      <td>NaN</td>\n",
       "      <td>3</td>\n",
       "      <td>0</td>\n",
       "      <td>25.0</td>\n",
       "      <td>0</td>\n",
       "      <td>0</td>\n",
       "      <td>1</td>\n",
       "      <td>8.0500</td>\n",
       "      <td>S</td>\n",
       "      <td>Mr</td>\n",
       "    </tr>\n",
       "    <tr>\n",
       "      <th>1305</th>\n",
       "      <td>NaN</td>\n",
       "      <td>1</td>\n",
       "      <td>1</td>\n",
       "      <td>39.0</td>\n",
       "      <td>0</td>\n",
       "      <td>0</td>\n",
       "      <td>1</td>\n",
       "      <td>108.9000</td>\n",
       "      <td>C</td>\n",
       "      <td>Person</td>\n",
       "    </tr>\n",
       "    <tr>\n",
       "      <th>1306</th>\n",
       "      <td>NaN</td>\n",
       "      <td>3</td>\n",
       "      <td>0</td>\n",
       "      <td>38.5</td>\n",
       "      <td>0</td>\n",
       "      <td>0</td>\n",
       "      <td>1</td>\n",
       "      <td>7.2500</td>\n",
       "      <td>S</td>\n",
       "      <td>Mr</td>\n",
       "    </tr>\n",
       "    <tr>\n",
       "      <th>1307</th>\n",
       "      <td>NaN</td>\n",
       "      <td>3</td>\n",
       "      <td>0</td>\n",
       "      <td>25.0</td>\n",
       "      <td>0</td>\n",
       "      <td>0</td>\n",
       "      <td>1</td>\n",
       "      <td>8.0500</td>\n",
       "      <td>S</td>\n",
       "      <td>Mr</td>\n",
       "    </tr>\n",
       "    <tr>\n",
       "      <th>1308</th>\n",
       "      <td>NaN</td>\n",
       "      <td>3</td>\n",
       "      <td>0</td>\n",
       "      <td>25.0</td>\n",
       "      <td>1</td>\n",
       "      <td>1</td>\n",
       "      <td>3</td>\n",
       "      <td>22.3583</td>\n",
       "      <td>C</td>\n",
       "      <td>Master</td>\n",
       "    </tr>\n",
       "  </tbody>\n",
       "</table>\n",
       "<p>1309 rows × 10 columns</p>\n",
       "</div>"
      ],
      "text/plain": [
       "      survived  p_class  sex   age  sib_sp  par_ch  family_size      fare  \\\n",
       "0          0.0        3    0  22.0       1       0            2    7.2500   \n",
       "1          1.0        1    1  38.0       1       0            2   71.2833   \n",
       "2          1.0        3    1  26.0       0       0            1    7.9250   \n",
       "3          1.0        1    1  35.0       1       0            2   53.1000   \n",
       "4          0.0        3    0  35.0       0       0            1    8.0500   \n",
       "...        ...      ...  ...   ...     ...     ...          ...       ...   \n",
       "1304       NaN        3    0  25.0       0       0            1    8.0500   \n",
       "1305       NaN        1    1  39.0       0       0            1  108.9000   \n",
       "1306       NaN        3    0  38.5       0       0            1    7.2500   \n",
       "1307       NaN        3    0  25.0       0       0            1    8.0500   \n",
       "1308       NaN        3    0  25.0       1       1            3   22.3583   \n",
       "\n",
       "     embarked   title  \n",
       "0           S      Mr  \n",
       "1           C     Mrs  \n",
       "2           S    Miss  \n",
       "3           S     Mrs  \n",
       "4           S      Mr  \n",
       "...       ...     ...  \n",
       "1304        S      Mr  \n",
       "1305        C  Person  \n",
       "1306        S      Mr  \n",
       "1307        S      Mr  \n",
       "1308        C  Master  \n",
       "\n",
       "[1309 rows x 10 columns]"
      ]
     },
     "execution_count": 13,
     "metadata": {},
     "output_type": "execute_result"
    }
   ],
   "source": [
    "df"
   ]
  },
  {
   "cell_type": "code",
   "execution_count": 13,
   "metadata": {},
   "outputs": [],
   "source": [
    "#get_dummies() -> \n",
    "pclass = pd.get_dummies(df['p_class'], prefix='p_class', drop_first=True)\n",
    "title = pd.get_dummies(df['title'], prefix='title', drop_first=True)\n",
    "embarked = pd.get_dummies(df['embarked'], prefix='embarked', drop_first=True)\n",
    "\n",
    "#drop_first=True -> (\"se não for caso A, nem caso B, nem caso C, então só pode ser caso D\")\n"
   ]
  },
  {
   "cell_type": "code",
   "execution_count": 14,
   "metadata": {},
   "outputs": [],
   "source": [
    "titanic_full = pd.concat([df, pclass, title, embarked], axis=1)\n",
    "\n",
    "titanic_full.drop(['p_class', 'title', 'embarked'], axis=1, inplace=True)"
   ]
  },
  {
   "cell_type": "code",
   "execution_count": 15,
   "metadata": {},
   "outputs": [],
   "source": [
    "#separando o df_titanic em treino e teste\n",
    "train_index = len(df_train) #891\n",
    "test_index = len(df_titanic) - len(df_test) #891\n",
    "titanic_train = titanic_full[:train_index].copy() #[:891]\n",
    "titanic_test = titanic_full[test_index:].copy() #[891:]\n",
    "titanic_train['survived'] = titanic_train['survived'].astype(int)\n"
   ]
  },
  {
   "cell_type": "code",
   "execution_count": 16,
   "metadata": {},
   "outputs": [],
   "source": [
    "#variáveis de treino\n",
    "x = titanic_train.drop('survived', axis=1)\n",
    "y = titanic_train['survived']\n",
    "\n",
    "#variável de teste\n",
    "x_test = titanic_test.drop('survived', axis=1)\n",
    "\n",
    "#x_train, x_test, y_train, y_test"
   ]
  },
  {
   "cell_type": "markdown",
   "metadata": {},
   "source": [
    "---"
   ]
  },
  {
   "cell_type": "markdown",
   "metadata": {},
   "source": [
    "#### TRAIN / TUNING / VALIDATION / TEST"
   ]
  },
  {
   "cell_type": "code",
   "execution_count": 17,
   "metadata": {},
   "outputs": [
    {
     "name": "stdout",
     "output_type": "stream",
     "text": [
      "Random Forest\n",
      "Acurácia: 98.32\n",
      "Acurácia Validação Cruzada: 80.7\n"
     ]
    }
   ],
   "source": [
    "#random forest\n",
    "from sklearn.ensemble import RandomForestClassifier\n",
    "\n",
    "acc_rf, acc_rf_cross_val = accuracy_func(RandomForestClassifier(), x, y, 10)\n",
    "print('Random Forest')\n",
    "print(f'Acurácia: {acc_rf}')\n",
    "print(f'Acurácia Validação Cruzada: {acc_rf_cross_val}')\n"
   ]
  },
  {
   "cell_type": "code",
   "execution_count": 18,
   "metadata": {},
   "outputs": [
    {
     "name": "stdout",
     "output_type": "stream",
     "text": [
      "Logistic Regression\n",
      "Acurácia: 82.94\n",
      "Acurácia Validação Cruzada: 82.38\n"
     ]
    }
   ],
   "source": [
    "#logistic regression\n",
    "from sklearn.linear_model import LogisticRegression\n",
    "\n",
    "acc_lr, acc_lr_cross_val = accuracy_func(LogisticRegression(max_iter=1000), x, y, 10)\n",
    "print('Logistic Regression')\n",
    "print(f'Acurácia: {acc_lr}')\n",
    "print(f'Acurácia Validação Cruzada: {acc_lr_cross_val}')\n"
   ]
  },
  {
   "cell_type": "code",
   "execution_count": 19,
   "metadata": {},
   "outputs": [
    {
     "name": "stdout",
     "output_type": "stream",
     "text": [
      "KNN\n",
      "Acurácia: 80.81\n",
      "Acurácia Validação Cruzada: 72.39\n"
     ]
    }
   ],
   "source": [
    "#k-nearest neighbours\n",
    "from sklearn.neighbors import KNeighborsClassifier\n",
    "\n",
    "acc_knn, acc_knn_cross_val = accuracy_func(KNeighborsClassifier(), x, y, 10)\n",
    "print('KNN')\n",
    "print(f'Acurácia: {acc_knn}')\n",
    "print(f'Acurácia Validação Cruzada: {acc_knn_cross_val}')\n"
   ]
  },
  {
   "cell_type": "code",
   "execution_count": 20,
   "metadata": {},
   "outputs": [
    {
     "name": "stdout",
     "output_type": "stream",
     "text": [
      "Gaussian Naive Bayes\n",
      "Acurácia: 78.79\n",
      "Acurácia Validação Cruzada: 78.56\n"
     ]
    }
   ],
   "source": [
    "#gaussian naive bayes\n",
    "from sklearn.naive_bayes import GaussianNB\n",
    "\n",
    "acc_gaussian, acc_gaussian_cross_val = accuracy_func(GaussianNB(), x, y, 10)\n",
    "print('Gaussian Naive Bayes')\n",
    "print(f'Acurácia: {acc_gaussian}')\n",
    "print(f'Acurácia Validação Cruzada: {acc_gaussian_cross_val}')\n"
   ]
  },
  {
   "cell_type": "code",
   "execution_count": 21,
   "metadata": {},
   "outputs": [
    {
     "name": "stdout",
     "output_type": "stream",
     "text": [
      "Support Vector Machines\n",
      "Acurácia: 83.28\n",
      "Acurácia Validação Cruzada: 82.72\n"
     ]
    }
   ],
   "source": [
    "#linear support vector machines (SVC)\n",
    "from sklearn.svm import LinearSVC\n",
    "\n",
    "acc_lsvc, acc_lsvc_cross_val = accuracy_func(LinearSVC(dual=False), x, y, 10)\n",
    "print('Support Vector Machines')\n",
    "print(f'Acurácia: {acc_lsvc}')\n",
    "print(f'Acurácia Validação Cruzada: {acc_lsvc_cross_val}')\n"
   ]
  },
  {
   "cell_type": "code",
   "execution_count": 22,
   "metadata": {},
   "outputs": [
    {
     "name": "stdout",
     "output_type": "stream",
     "text": [
      "Support Vector Machines\n",
      "Acurácia: 75.2\n",
      "Acurácia Validação Cruzada: 72.95\n"
     ]
    }
   ],
   "source": [
    "#stochastic gradient descent\n",
    "from sklearn.linear_model import SGDClassifier\n",
    "\n",
    "acc_sgd, acc_sgd_cross_val = accuracy_func(SGDClassifier(), x, y, 10)\n",
    "print('Support Vector Machines')\n",
    "print(f'Acurácia: {acc_sgd}')\n",
    "print(f'Acurácia Validação Cruzada: {acc_sgd_cross_val}')\n"
   ]
  },
  {
   "cell_type": "code",
   "execution_count": 23,
   "metadata": {},
   "outputs": [
    {
     "name": "stdout",
     "output_type": "stream",
     "text": [
      "Decision Tree Classifiers\n",
      "Acurácia: 98.32\n",
      "Acurácia Validação Cruzada: 78.79\n"
     ]
    }
   ],
   "source": [
    "#decision tree classifiers\n",
    "from sklearn.tree import DecisionTreeClassifier\n",
    "\n",
    "acc_dt, acc_dt_cross_val = accuracy_func(DecisionTreeClassifier(), x, y, 10)\n",
    "print('Decision Tree Classifiers')\n",
    "print(f'Acurácia: {acc_dt}')\n",
    "print(f'Acurácia Validação Cruzada: {acc_dt_cross_val}')\n"
   ]
  },
  {
   "cell_type": "code",
   "execution_count": 24,
   "metadata": {},
   "outputs": [
    {
     "name": "stdout",
     "output_type": "stream",
     "text": [
      "Gradient Boost Classifier\n",
      "Acurácia: 89.67\n",
      "Acurácia Validação Cruzada: 83.05\n"
     ]
    }
   ],
   "source": [
    "#gradient boost classifier\n",
    "from sklearn.ensemble import GradientBoostingClassifier\n",
    "\n",
    "acc_gbt, acc_gbt_cross_val = accuracy_func(GradientBoostingClassifier(), x, y, 10)\n",
    "print('Gradient Boost Classifier')\n",
    "print(f'Acurácia: {acc_gbt}')\n",
    "print(f'Acurácia Validação Cruzada: {acc_gbt_cross_val}')\n"
   ]
  },
  {
   "cell_type": "code",
   "execution_count": 25,
   "metadata": {},
   "outputs": [],
   "source": [
    "#tuning\n",
    "params = dict(\n",
    "    max_depth = [n for n in range(1, 5)],\n",
    "    min_samples_split = [n for n in range(2, 6)],\n",
    "    min_samples_leaf = [n for n in range(2, 6)],\n",
    "    n_estimators = [n for n in range(10, 50, 10)]\n",
    ")\n"
   ]
  },
  {
   "cell_type": "code",
   "execution_count": 26,
   "metadata": {},
   "outputs": [
    {
     "name": "stdout",
     "output_type": "stream",
     "text": [
      "Grid Search Cross Validation\n",
      "Melhor pontuação: 0.848514\n",
      "Melhores parâmetros: GradientBoostingClassifier(max_depth=4, min_samples_leaf=2, n_estimators=30)\n"
     ]
    }
   ],
   "source": [
    "#cross validation\n",
    "from sklearn.model_selection import GridSearchCV\n",
    "\n",
    "gbc = GradientBoostingClassifier()\n",
    "gbc_cross_val = GridSearchCV(estimator=gbc, param_grid=params, cv=10)\n",
    "gbc_cross_val.fit(x, y) #\n",
    "print('Grid Search Cross Validation')\n",
    "print(f'Melhor pontuação: {gbc_cross_val.best_score_:.6f}')\n",
    "print(f'Melhores parâmetros: {gbc_cross_val.best_estimator_}')\n"
   ]
  },
  {
   "cell_type": "code",
   "execution_count": 27,
   "metadata": {},
   "outputs": [],
   "source": [
    "#teste\n",
    "gradient_boosting_classifier_predict = gbc_cross_val.predict(x_test)\n"
   ]
  },
  {
   "cell_type": "markdown",
   "metadata": {},
   "source": [
    "---"
   ]
  },
  {
   "cell_type": "markdown",
   "metadata": {},
   "source": [
    "#### MODEL SUBMISSION"
   ]
  },
  {
   "cell_type": "code",
   "execution_count": 28,
   "metadata": {},
   "outputs": [],
   "source": [
    "passenger_id = df_test['PassengerId']\n",
    "\n",
    "sub = pd.Series(gradient_boosting_classifier_predict, index=passenger_id, name='Survived')\n",
    "#sub.shape\n",
    "sub.to_csv('./titanic_grad_boost_class.csv', header=True)\n"
   ]
  },
  {
   "cell_type": "markdown",
   "metadata": {},
   "source": [
    "---"
   ]
  },
  {
   "cell_type": "markdown",
   "metadata": {},
   "source": [
    "#### END"
   ]
  }
 ],
 "metadata": {
  "kernelspec": {
   "display_name": "Python 3.9.12 64-bit",
   "language": "python",
   "name": "python3"
  },
  "language_info": {
   "codemirror_mode": {
    "name": "ipython",
    "version": 3
   },
   "file_extension": ".py",
   "mimetype": "text/x-python",
   "name": "python",
   "nbconvert_exporter": "python",
   "pygments_lexer": "ipython3",
   "version": "3.9.12"
  },
  "orig_nbformat": 4,
  "vscode": {
   "interpreter": {
    "hash": "fd6de60cc202df302348488ddc539a0b871575196ba754f9909c09dd4d1cd470"
   }
  }
 },
 "nbformat": 4,
 "nbformat_minor": 2
}
